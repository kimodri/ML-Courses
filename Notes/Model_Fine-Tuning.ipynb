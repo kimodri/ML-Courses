{
 "cells": [
  {
   "cell_type": "markdown",
   "id": "461e406b-306f-4082-87f6-92a552507a04",
   "metadata": {},
   "source": [
    "# Model Fine-Tuning\n",
    "\n",
    "- Learn several metrics and visualizing\n",
    "- Optimize classification and regression with hyperparameter tuning\n",
    "\n",
    "---"
   ]
  },
  {
   "cell_type": "markdown",
   "id": "f6938cb8-186a-4c9c-bf7b-5886cf3334bb",
   "metadata": {},
   "source": [
    "## Why Metrics Do not Always Work?"
   ]
  },
  {
   "cell_type": "markdown",
   "id": "743da00f-a344-452e-a18a-43f91fbf8e3d",
   "metadata": {},
   "source": [
    "Conflict on a dataframe with class imbalance may not work.\n",
    "\n",
    "Example: If your model is trained on dataset with 99% being `yes` and 1% being `no`, you could build a model that predicts none of the observation as `no` and if you use the simple ratio of correct / number of total observation, it could reflect a 99% accuracy.\n",
    "\n",
    "---"
   ]
  },
  {
   "cell_type": "markdown",
   "id": "ada0a41a-2314-4090-9231-c4fc4d6716b2",
   "metadata": {},
   "source": [
    "## Confusion Matrix in Assessing Classifier"
   ]
  },
  {
   "cell_type": "markdown",
   "id": "98caa3c9-1286-4c2f-b370-77736e5138d5",
   "metadata": {},
   "source": []
  }
 ],
 "metadata": {
  "kernelspec": {
   "display_name": "Python 3 (ipykernel)",
   "language": "python",
   "name": "python3"
  },
  "language_info": {
   "codemirror_mode": {
    "name": "ipython",
    "version": 3
   },
   "file_extension": ".py",
   "mimetype": "text/x-python",
   "name": "python",
   "nbconvert_exporter": "python",
   "pygments_lexer": "ipython3",
   "version": "3.11.5"
  }
 },
 "nbformat": 4,
 "nbformat_minor": 5
}
